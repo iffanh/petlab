{
 "cells": [
  {
   "cell_type": "code",
   "execution_count": 20,
   "metadata": {},
   "outputs": [],
   "source": [
    "import numpy as np\n",
    "\n",
    "krw = np.array([0.003, 0.012, 0.028, 0.049, 0.077, 0.110, 0.150, 0.196, 0.248, 0.306, 0.370, 0.441, 0.517, 0.600]) #original krw\n",
    "krow = np.array([0.875, 0.757, 0.647, 0.545, 0.451, 0.365, 0.287, 0.217, 0.156, 0.104, 0.062, 0.030, 0.008, 0.000]) #original krow"
   ]
  },
  {
   "cell_type": "code",
   "execution_count": 21,
   "metadata": {},
   "outputs": [],
   "source": [
    "def build_swof_table(mid_krw, mid_krow):\n",
    "    \n",
    "    table = []\n",
    "    \n",
    "    row = [0.100, 0.000, 1.000, 0]\n",
    "    table.append(row)\n",
    "    \n",
    "    for i, (_krw, _krow) in enumerate(zip(mid_krw, mid_krow)):\n",
    "        \n",
    "        row = [0.150 + i*0.05, _krw, _krow, 0]\n",
    "        table.append(row)\n",
    "        \n",
    "    row = [1.000, 1.000, 0.000, 0]\n",
    "    table.append(row)\n",
    "    \n",
    "    # table = np.array(table)\n",
    "    # print(table)\n",
    "    return table\n",
    "\n"
   ]
  },
  {
   "cell_type": "code",
   "execution_count": 22,
   "metadata": {},
   "outputs": [],
   "source": [
    "Ne = 16\n",
    "\n",
    "dist1 = np.random.normal(1, 0.2, size=Ne)\n",
    "dist2 = np.random.normal(1, 0.2, size=Ne)\n",
    "\n",
    "\n",
    "for j, (d1, d2) in enumerate(zip(dist1, dist2)):\n",
    "    new_krw = d1*krw\n",
    "    new_krow = d2*krow\n",
    "    \n",
    "    new_krw[new_krw > 1.0] = 1.0\n",
    "    new_krow[new_krow > 1.0] = 1.0\n",
    "    \n",
    "    table = build_swof_table(new_krw, new_krow)\n",
    "    \n",
    "    with open(f\"./include/SWOF_{j+1}.INC\", \"w\") as myfile:\n",
    "        myfile.write(\"SWOF\")\n",
    "        myfile.write(\"\\n\")\n",
    "    \n",
    "    with open(f\"./include/SWOF_{j+1}.INC\", \"a\") as myfile:\n",
    "        for row in table:\n",
    "            for r in row:\n",
    "                myfile.write(f\"{r:.4f} \")\n",
    "            myfile.write(\"\\n\")\n",
    "            \n",
    "        myfile.write(\"/\")"
   ]
  }
 ],
 "metadata": {
  "kernelspec": {
   "display_name": "venv",
   "language": "python",
   "name": "python3"
  },
  "language_info": {
   "codemirror_mode": {
    "name": "ipython",
    "version": 3
   },
   "file_extension": ".py",
   "mimetype": "text/x-python",
   "name": "python",
   "nbconvert_exporter": "python",
   "pygments_lexer": "ipython3",
   "version": "3.10.12"
  }
 },
 "nbformat": 4,
 "nbformat_minor": 2
}
